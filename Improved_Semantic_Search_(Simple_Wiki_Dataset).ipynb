{
  "metadata": {
    "colab": {
      "provenance": [],
      "gpuType": "V28",
      "include_colab_link": true
    },
    "kernelspec": {
      "name": "python3",
      "display_name": "Python 3",
      "language": "python"
    },
    "language_info": {
      "name": "python",
      "version": "3.10.13",
      "mimetype": "text/x-python",
      "codemirror_mode": {
        "name": "ipython",
        "version": 3
      },
      "pygments_lexer": "ipython3",
      "nbconvert_exporter": "python",
      "file_extension": ".py"
    },
    "accelerator": "TPU",
    "widgets": {
      "application/vnd.jupyter.widget-state+json": {}
    },
    "kaggle": {
      "accelerator": "nvidiaTeslaT4",
      "dataSources": [
        {
          "sourceId": 8375218,
          "sourceType": "datasetVersion",
          "datasetId": 4979675
        }
      ],
      "dockerImageVersionId": 30699,
      "isInternetEnabled": true,
      "language": "python",
      "sourceType": "notebook",
      "isGpuEnabled": true
    }
  },
  "nbformat_minor": 0,
  "nbformat": 4,
  "cells": [
    {
      "cell_type": "markdown",
      "metadata": {
        "id": "view-in-github",
        "colab_type": "text"
      },
      "source": [
        "<a href=\"https://colab.research.google.com/github/SauryanPandey/Improved_Semantic_Search/blob/main/Improved_Semantic_Search_(Simple_Wiki_Dataset).ipynb\" target=\"_parent\"><img src=\"https://colab.research.google.com/assets/colab-badge.svg\" alt=\"Open In Colab\"/></a>"
      ]
    },
    {
      "cell_type": "code",
      "source": [
        "!nvidia-smi"
      ],
      "metadata": {
        "id": "Ytv4Bjo8k4wu",
        "outputId": "587948ae-e0c8-4f35-8a1f-b6e8bf7427e3",
        "execution": {
          "iopub.status.busy": "2024-05-21T08:11:13.171041Z",
          "iopub.execute_input": "2024-05-21T08:11:13.171389Z",
          "iopub.status.idle": "2024-05-21T08:11:14.218972Z",
          "shell.execute_reply.started": "2024-05-21T08:11:13.171363Z",
          "shell.execute_reply": "2024-05-21T08:11:14.217870Z"
        },
        "trusted": true
      },
      "execution_count": null,
      "outputs": [
        {
          "name": "stdout",
          "text": "Tue May 21 08:11:14 2024       \n+---------------------------------------------------------------------------------------+\n| NVIDIA-SMI 535.129.03             Driver Version: 535.129.03   CUDA Version: 12.2     |\n|-----------------------------------------+----------------------+----------------------+\n| GPU  Name                 Persistence-M | Bus-Id        Disp.A | Volatile Uncorr. ECC |\n| Fan  Temp   Perf          Pwr:Usage/Cap |         Memory-Usage | GPU-Util  Compute M. |\n|                                         |                      |               MIG M. |\n|=========================================+======================+======================|\n|   0  Tesla T4                       Off | 00000000:00:04.0 Off |                    0 |\n| N/A   49C    P8              11W /  70W |      0MiB / 15360MiB |      0%      Default |\n|                                         |                      |                  N/A |\n+-----------------------------------------+----------------------+----------------------+\n|   1  Tesla T4                       Off | 00000000:00:05.0 Off |                    0 |\n| N/A   54C    P8              12W /  70W |      0MiB / 15360MiB |      0%      Default |\n|                                         |                      |                  N/A |\n+-----------------------------------------+----------------------+----------------------+\n                                                                                         \n+---------------------------------------------------------------------------------------+\n| Processes:                                                                            |\n|  GPU   GI   CI        PID   Type   Process name                            GPU Memory |\n|        ID   ID                                                             Usage      |\n|=======================================================================================|\n|  No running processes found                                                           |\n+---------------------------------------------------------------------------------------+\n",
          "output_type": "stream"
        }
      ]
    },
    {
      "cell_type": "code",
      "source": [
        "!pip install -U sentence-transformers"
      ],
      "metadata": {
        "id": "jLffB7VymoMq",
        "outputId": "e96875d3-8bdf-446a-af99-ec2afc672c9c",
        "execution": {
          "iopub.status.busy": "2024-05-21T08:12:25.681453Z",
          "iopub.execute_input": "2024-05-21T08:12:25.681815Z",
          "iopub.status.idle": "2024-05-21T08:12:39.320775Z",
          "shell.execute_reply.started": "2024-05-21T08:12:25.681773Z",
          "shell.execute_reply": "2024-05-21T08:12:39.319652Z"
        },
        "trusted": true
      },
      "execution_count": null,
      "outputs": [
        {
          "name": "stdout",
          "text": "Collecting sentence-transformers\n  Downloading sentence_transformers-2.7.0-py3-none-any.whl.metadata (11 kB)\nRequirement already satisfied: transformers<5.0.0,>=4.34.0 in /opt/conda/lib/python3.10/site-packages (from sentence-transformers) (4.39.3)\nRequirement already satisfied: tqdm in /opt/conda/lib/python3.10/site-packages (from sentence-transformers) (4.66.1)\nRequirement already satisfied: torch>=1.11.0 in /opt/conda/lib/python3.10/site-packages (from sentence-transformers) (2.1.2)\nRequirement already satisfied: numpy in /opt/conda/lib/python3.10/site-packages (from sentence-transformers) (1.26.4)\nRequirement already satisfied: scikit-learn in /opt/conda/lib/python3.10/site-packages (from sentence-transformers) (1.2.2)\nRequirement already satisfied: scipy in /opt/conda/lib/python3.10/site-packages (from sentence-transformers) (1.11.4)\nRequirement already satisfied: huggingface-hub>=0.15.1 in /opt/conda/lib/python3.10/site-packages (from sentence-transformers) (0.22.2)\nRequirement already satisfied: Pillow in /opt/conda/lib/python3.10/site-packages (from sentence-transformers) (9.5.0)\nRequirement already satisfied: filelock in /opt/conda/lib/python3.10/site-packages (from huggingface-hub>=0.15.1->sentence-transformers) (3.13.1)\nRequirement already satisfied: fsspec>=2023.5.0 in /opt/conda/lib/python3.10/site-packages (from huggingface-hub>=0.15.1->sentence-transformers) (2024.2.0)\nRequirement already satisfied: packaging>=20.9 in /opt/conda/lib/python3.10/site-packages (from huggingface-hub>=0.15.1->sentence-transformers) (21.3)\nRequirement already satisfied: pyyaml>=5.1 in /opt/conda/lib/python3.10/site-packages (from huggingface-hub>=0.15.1->sentence-transformers) (6.0.1)\nRequirement already satisfied: requests in /opt/conda/lib/python3.10/site-packages (from huggingface-hub>=0.15.1->sentence-transformers) (2.31.0)\nRequirement already satisfied: typing-extensions>=3.7.4.3 in /opt/conda/lib/python3.10/site-packages (from huggingface-hub>=0.15.1->sentence-transformers) (4.9.0)\nRequirement already satisfied: sympy in /opt/conda/lib/python3.10/site-packages (from torch>=1.11.0->sentence-transformers) (1.12)\nRequirement already satisfied: networkx in /opt/conda/lib/python3.10/site-packages (from torch>=1.11.0->sentence-transformers) (3.2.1)\nRequirement already satisfied: jinja2 in /opt/conda/lib/python3.10/site-packages (from torch>=1.11.0->sentence-transformers) (3.1.2)\nRequirement already satisfied: regex!=2019.12.17 in /opt/conda/lib/python3.10/site-packages (from transformers<5.0.0,>=4.34.0->sentence-transformers) (2023.12.25)\nRequirement already satisfied: tokenizers<0.19,>=0.14 in /opt/conda/lib/python3.10/site-packages (from transformers<5.0.0,>=4.34.0->sentence-transformers) (0.15.2)\nRequirement already satisfied: safetensors>=0.4.1 in /opt/conda/lib/python3.10/site-packages (from transformers<5.0.0,>=4.34.0->sentence-transformers) (0.4.3)\nRequirement already satisfied: joblib>=1.1.1 in /opt/conda/lib/python3.10/site-packages (from scikit-learn->sentence-transformers) (1.4.0)\nRequirement already satisfied: threadpoolctl>=2.0.0 in /opt/conda/lib/python3.10/site-packages (from scikit-learn->sentence-transformers) (3.2.0)\nRequirement already satisfied: pyparsing!=3.0.5,>=2.0.2 in /opt/conda/lib/python3.10/site-packages (from packaging>=20.9->huggingface-hub>=0.15.1->sentence-transformers) (3.1.1)\nRequirement already satisfied: MarkupSafe>=2.0 in /opt/conda/lib/python3.10/site-packages (from jinja2->torch>=1.11.0->sentence-transformers) (2.1.3)\nRequirement already satisfied: charset-normalizer<4,>=2 in /opt/conda/lib/python3.10/site-packages (from requests->huggingface-hub>=0.15.1->sentence-transformers) (3.3.2)\nRequirement already satisfied: idna<4,>=2.5 in /opt/conda/lib/python3.10/site-packages (from requests->huggingface-hub>=0.15.1->sentence-transformers) (3.6)\nRequirement already satisfied: urllib3<3,>=1.21.1 in /opt/conda/lib/python3.10/site-packages (from requests->huggingface-hub>=0.15.1->sentence-transformers) (1.26.18)\nRequirement already satisfied: certifi>=2017.4.17 in /opt/conda/lib/python3.10/site-packages (from requests->huggingface-hub>=0.15.1->sentence-transformers) (2024.2.2)\nRequirement already satisfied: mpmath>=0.19 in /opt/conda/lib/python3.10/site-packages (from sympy->torch>=1.11.0->sentence-transformers) (1.3.0)\nDownloading sentence_transformers-2.7.0-py3-none-any.whl (171 kB)\n\u001b[2K   \u001b[90m━━━━━━━━━━━━━━━━━━━━━━━━━━━━━━━━━━━━━━━━\u001b[0m \u001b[32m171.5/171.5 kB\u001b[0m \u001b[31m6.7 MB/s\u001b[0m eta \u001b[36m0:00:00\u001b[0m\n\u001b[?25hInstalling collected packages: sentence-transformers\nSuccessfully installed sentence-transformers-2.7.0\n",
          "output_type": "stream"
        }
      ]
    },
    {
      "cell_type": "code",
      "source": [
        "import json\n",
        "from sentence_transformers import SentenceTransformer, CrossEncoder, util\n",
        "import gzip\n",
        "import os\n",
        "import torch\n",
        "\n",
        "if not torch.cuda.is_available():\n",
        "    print(\"Warning: No GPU found. Please add GPU to your notebook\")\n",
        "\n",
        "wikipedia_filepath = 'simplewiki-2020-11-01.jsonl.gz'\n",
        "\n",
        "if not os.path.exists(wikipedia_filepath):\n",
        "    util.http_get('http://sbert.net/datasets/simplewiki-2020-11-01.jsonl.gz', wikipedia_filepath)"
      ],
      "metadata": {
        "id": "9AOYN9F5m5w_",
        "outputId": "d342be10-175e-4f96-a03f-46427688f21b",
        "execution": {
          "iopub.status.busy": "2024-05-21T08:13:10.499316Z",
          "iopub.execute_input": "2024-05-21T08:13:10.500296Z",
          "iopub.status.idle": "2024-05-21T08:13:17.140523Z",
          "shell.execute_reply.started": "2024-05-21T08:13:10.500257Z",
          "shell.execute_reply": "2024-05-21T08:13:17.139583Z"
        },
        "trusted": true,
        "colab": {
          "referenced_widgets": [
            "2dc1bc62dbae4e10ba98805fa56c83d5"
          ]
        }
      },
      "execution_count": null,
      "outputs": [
        {
          "output_type": "display_data",
          "data": {
            "text/plain": "  0%|          | 0.00/50.2M [00:00<?, ?B/s]",
            "application/vnd.jupyter.widget-view+json": {
              "version_major": 2,
              "version_minor": 0,
              "model_id": "2dc1bc62dbae4e10ba98805fa56c83d5"
            }
          },
          "metadata": {}
        }
      ]
    },
    {
      "cell_type": "code",
      "source": [
        "with gzip.open(wikipedia_filepath, 'rt', encoding='utf-8') as f:\n",
        "  documents = []\n",
        "  for line in f:\n",
        "    data = json.loads(line) #Converting string lines in JSON file into dictionary in Python\n",
        "\n",
        "    documents.append(data['paragraphs'][0])\n",
        "\n",
        "print(len(documents))"
      ],
      "metadata": {
        "id": "ELiw7JPz75vu",
        "outputId": "45e35b37-09f4-4c69-dd19-904e10629369",
        "execution": {
          "iopub.status.busy": "2024-05-21T08:13:35.974937Z",
          "iopub.execute_input": "2024-05-21T08:13:35.975630Z",
          "iopub.status.idle": "2024-05-21T08:13:38.461828Z",
          "shell.execute_reply.started": "2024-05-21T08:13:35.975597Z",
          "shell.execute_reply": "2024-05-21T08:13:38.460919Z"
        },
        "trusted": true
      },
      "execution_count": null,
      "outputs": [
        {
          "name": "stdout",
          "text": "169597\n",
          "output_type": "stream"
        }
      ]
    },
    {
      "cell_type": "code",
      "source": [
        "testing_words = ['india', 'north pole', 'nlp', 'natural language processing', 'linguistics',\n",
        "                 'machine learning', 'artificial intelligence', 'cheetah', 'animal', 'jaguar']"
      ],
      "metadata": {
        "id": "v9FqblmaBNl-",
        "execution": {
          "iopub.status.busy": "2024-05-21T08:15:46.460473Z",
          "iopub.execute_input": "2024-05-21T08:15:46.460833Z",
          "iopub.status.idle": "2024-05-21T08:15:46.465585Z",
          "shell.execute_reply.started": "2024-05-21T08:15:46.460804Z",
          "shell.execute_reply": "2024-05-21T08:15:46.464646Z"
        },
        "trusted": true
      },
      "execution_count": null,
      "outputs": []
    },
    {
      "cell_type": "code",
      "source": [
        "new_documents = []\n",
        "for doc in documents:\n",
        "  for word in testing_words:\n",
        "    if(word in doc.lower()):\n",
        "      new_documents.append(doc)\n",
        "      break\n",
        "print(len(new_documents))"
      ],
      "metadata": {
        "id": "4NMElpXYCeWx",
        "outputId": "f9238896-f65b-4f1d-b55c-8742bb886fc7",
        "execution": {
          "iopub.status.busy": "2024-05-21T08:16:04.155663Z",
          "iopub.execute_input": "2024-05-21T08:16:04.156376Z",
          "iopub.status.idle": "2024-05-21T08:16:06.251419Z",
          "shell.execute_reply.started": "2024-05-21T08:16:04.156339Z",
          "shell.execute_reply": "2024-05-21T08:16:06.250427Z"
        },
        "trusted": true
      },
      "execution_count": null,
      "outputs": [
        {
          "name": "stdout",
          "text": "5872\n",
          "output_type": "stream"
        }
      ]
    },
    {
      "cell_type": "code",
      "source": [
        "bi_encoder = SentenceTransformer('multi-qa-MiniLM-L6-cos-v1') #Retrieval of top k most relevant documents\n",
        "cross_encoder = CrossEncoder('cross-encoder/ms-marco-MiniLM-L-6-v2') #Reranking of these documents based upon similarity scores"
      ],
      "metadata": {
        "id": "bftKBnZVEmhX",
        "outputId": "987bd3c8-9e3d-49f4-b0ae-6a1025d7fccd",
        "execution": {
          "iopub.status.busy": "2024-05-21T08:17:37.335973Z",
          "iopub.execute_input": "2024-05-21T08:17:37.336634Z",
          "iopub.status.idle": "2024-05-21T08:17:44.136382Z",
          "shell.execute_reply.started": "2024-05-21T08:17:37.336599Z",
          "shell.execute_reply": "2024-05-21T08:17:44.135458Z"
        },
        "trusted": true,
        "colab": {
          "referenced_widgets": [
            "fb5ebed044c14d4893cb18e4de5ff48d",
            "2e2c5133bdca4d70935cffaa569d3f02",
            "b4864635634a4ee88aeb7ff5669aee91",
            "a7b77436b67d4157a5ba235af747b19d",
            "e31a44801d8f46cd9e13f27d93273c83",
            "50861cc15c3041a799348aa6001d8387",
            "8d23643fe83b42cf88582145305158eb",
            "ec2bc7e8db22403b91de5e54ec80e4f3",
            "a37852224d3041f08abe0a3a0bb19666",
            "029ffe588b6548c6b0acb9987bc797eb",
            "99d690ede11a460cabf3bcce77c5ff34",
            "3d41ae30a4414b7fae40e05313457689",
            "5fcc3c5bfd4c4f59be52f6ac4731cb9d",
            "a0b5c9bbeddc45a396ad5b76d522fc43",
            "642a8902dbcb46dfbd9e79d4383b95bf",
            "35aea9bed50146e19f5866cf8762938f"
          ]
        }
      },
      "execution_count": null,
      "outputs": [
        {
          "output_type": "display_data",
          "data": {
            "text/plain": "modules.json:   0%|          | 0.00/349 [00:00<?, ?B/s]",
            "application/vnd.jupyter.widget-view+json": {
              "version_major": 2,
              "version_minor": 0,
              "model_id": "fb5ebed044c14d4893cb18e4de5ff48d"
            }
          },
          "metadata": {}
        },
        {
          "output_type": "display_data",
          "data": {
            "text/plain": "config_sentence_transformers.json:   0%|          | 0.00/116 [00:00<?, ?B/s]",
            "application/vnd.jupyter.widget-view+json": {
              "version_major": 2,
              "version_minor": 0,
              "model_id": "2e2c5133bdca4d70935cffaa569d3f02"
            }
          },
          "metadata": {}
        },
        {
          "output_type": "display_data",
          "data": {
            "text/plain": "README.md:   0%|          | 0.00/11.6k [00:00<?, ?B/s]",
            "application/vnd.jupyter.widget-view+json": {
              "version_major": 2,
              "version_minor": 0,
              "model_id": "b4864635634a4ee88aeb7ff5669aee91"
            }
          },
          "metadata": {}
        },
        {
          "output_type": "display_data",
          "data": {
            "text/plain": "sentence_bert_config.json:   0%|          | 0.00/53.0 [00:00<?, ?B/s]",
            "application/vnd.jupyter.widget-view+json": {
              "version_major": 2,
              "version_minor": 0,
              "model_id": "a7b77436b67d4157a5ba235af747b19d"
            }
          },
          "metadata": {}
        },
        {
          "output_type": "display_data",
          "data": {
            "text/plain": "config.json:   0%|          | 0.00/612 [00:00<?, ?B/s]",
            "application/vnd.jupyter.widget-view+json": {
              "version_major": 2,
              "version_minor": 0,
              "model_id": "e31a44801d8f46cd9e13f27d93273c83"
            }
          },
          "metadata": {}
        },
        {
          "output_type": "display_data",
          "data": {
            "text/plain": "model.safetensors:   0%|          | 0.00/90.9M [00:00<?, ?B/s]",
            "application/vnd.jupyter.widget-view+json": {
              "version_major": 2,
              "version_minor": 0,
              "model_id": "50861cc15c3041a799348aa6001d8387"
            }
          },
          "metadata": {}
        },
        {
          "output_type": "display_data",
          "data": {
            "text/plain": "tokenizer_config.json:   0%|          | 0.00/383 [00:00<?, ?B/s]",
            "application/vnd.jupyter.widget-view+json": {
              "version_major": 2,
              "version_minor": 0,
              "model_id": "8d23643fe83b42cf88582145305158eb"
            }
          },
          "metadata": {}
        },
        {
          "output_type": "display_data",
          "data": {
            "text/plain": "vocab.txt:   0%|          | 0.00/232k [00:00<?, ?B/s]",
            "application/vnd.jupyter.widget-view+json": {
              "version_major": 2,
              "version_minor": 0,
              "model_id": "ec2bc7e8db22403b91de5e54ec80e4f3"
            }
          },
          "metadata": {}
        },
        {
          "output_type": "display_data",
          "data": {
            "text/plain": "tokenizer.json:   0%|          | 0.00/466k [00:00<?, ?B/s]",
            "application/vnd.jupyter.widget-view+json": {
              "version_major": 2,
              "version_minor": 0,
              "model_id": "a37852224d3041f08abe0a3a0bb19666"
            }
          },
          "metadata": {}
        },
        {
          "output_type": "display_data",
          "data": {
            "text/plain": "special_tokens_map.json:   0%|          | 0.00/112 [00:00<?, ?B/s]",
            "application/vnd.jupyter.widget-view+json": {
              "version_major": 2,
              "version_minor": 0,
              "model_id": "029ffe588b6548c6b0acb9987bc797eb"
            }
          },
          "metadata": {}
        },
        {
          "output_type": "display_data",
          "data": {
            "text/plain": "1_Pooling/config.json:   0%|          | 0.00/190 [00:00<?, ?B/s]",
            "application/vnd.jupyter.widget-view+json": {
              "version_major": 2,
              "version_minor": 0,
              "model_id": "99d690ede11a460cabf3bcce77c5ff34"
            }
          },
          "metadata": {}
        },
        {
          "output_type": "display_data",
          "data": {
            "text/plain": "config.json:   0%|          | 0.00/794 [00:00<?, ?B/s]",
            "application/vnd.jupyter.widget-view+json": {
              "version_major": 2,
              "version_minor": 0,
              "model_id": "3d41ae30a4414b7fae40e05313457689"
            }
          },
          "metadata": {}
        },
        {
          "output_type": "display_data",
          "data": {
            "text/plain": "pytorch_model.bin:   0%|          | 0.00/90.9M [00:00<?, ?B/s]",
            "application/vnd.jupyter.widget-view+json": {
              "version_major": 2,
              "version_minor": 0,
              "model_id": "5fcc3c5bfd4c4f59be52f6ac4731cb9d"
            }
          },
          "metadata": {}
        },
        {
          "name": "stderr",
          "text": "/opt/conda/lib/python3.10/site-packages/torch/_utils.py:831: UserWarning: TypedStorage is deprecated. It will be removed in the future and UntypedStorage will be the only storage class. This should only matter to you if you are using storages directly.  To access UntypedStorage directly, use tensor.untyped_storage() instead of tensor.storage()\n  return self.fget.__get__(instance, owner)()\n",
          "output_type": "stream"
        },
        {
          "output_type": "display_data",
          "data": {
            "text/plain": "tokenizer_config.json:   0%|          | 0.00/316 [00:00<?, ?B/s]",
            "application/vnd.jupyter.widget-view+json": {
              "version_major": 2,
              "version_minor": 0,
              "model_id": "a0b5c9bbeddc45a396ad5b76d522fc43"
            }
          },
          "metadata": {}
        },
        {
          "output_type": "display_data",
          "data": {
            "text/plain": "vocab.txt:   0%|          | 0.00/232k [00:00<?, ?B/s]",
            "application/vnd.jupyter.widget-view+json": {
              "version_major": 2,
              "version_minor": 0,
              "model_id": "642a8902dbcb46dfbd9e79d4383b95bf"
            }
          },
          "metadata": {}
        },
        {
          "output_type": "display_data",
          "data": {
            "text/plain": "special_tokens_map.json:   0%|          | 0.00/112 [00:00<?, ?B/s]",
            "application/vnd.jupyter.widget-view+json": {
              "version_major": 2,
              "version_minor": 0,
              "model_id": "35aea9bed50146e19f5866cf8762938f"
            }
          },
          "metadata": {}
        }
      ]
    },
    {
      "cell_type": "markdown",
      "source": [
        "#Retrieval with Bi-Encoders"
      ],
      "metadata": {
        "id": "fbHCfSMiVqJL"
      }
    },
    {
      "cell_type": "code",
      "source": [
        "new_documents[:5]"
      ],
      "metadata": {
        "execution": {
          "iopub.status.busy": "2024-05-21T08:19:19.067284Z",
          "iopub.execute_input": "2024-05-21T08:19:19.067672Z",
          "iopub.status.idle": "2024-05-21T08:19:19.074364Z",
          "shell.execute_reply.started": "2024-05-21T08:19:19.067640Z",
          "shell.execute_reply": "2024-05-21T08:19:19.073302Z"
        },
        "trusted": true,
        "id": "6uruWZJ5UEou",
        "outputId": "386d51b9-4901-4ce8-c0df-3ea91b649e59"
      },
      "execution_count": null,
      "outputs": [
        {
          "execution_count": 9,
          "output_type": "execute_result",
          "data": {
            "text/plain": "[\"The integumentary system is everything covering the outside of an animal's body. This account is written mostly with people in mind, but it applies more widely.\",\n 'The electric eel, \"Electrophorus electricus\", is a species of fish. It can weigh up to six pounds. It can give electric shocks of up to six hundred fifty watts of electricity. The animal uses these shocks both for hunting and to defend itself. It lives in the stagnant muddy river bottoms of the Orinoco and the Amazon, and uses low-voltage electric fields to find its prey.',\n 'The term Far East means countries of East Asia. It became used in the English language during the period of the British Empire for lands to the east of British India.',\n \"A chakra is an energy center in the human body as taught in Indian yoga and some related cultures. Chakras are also believed in by some New Age adherents. Chakra means ‘Aneel or wheel' in Sanskrit.\",\n 'The Simputer is a small, cheap device, similar to personal digital assistant (palmtop). The unique feature of this device is a smart-card interface which allows a single Simputer to be used by many users. User\\'s private datas might be kept on a cheap smart-card. This device was constructed by Indian company- Simputer Trust. The name stands for \"Simple computer\".']"
          },
          "metadata": {}
        }
      ]
    },
    {
      "cell_type": "code",
      "source": [
        "documents_embeddings = bi_encoder.encode(new_documents)"
      ],
      "metadata": {
        "id": "bN9hADDaH11a",
        "execution": {
          "iopub.status.busy": "2024-05-21T08:28:17.279502Z",
          "iopub.execute_input": "2024-05-21T08:28:17.279879Z",
          "iopub.status.idle": "2024-05-21T08:28:23.925877Z",
          "shell.execute_reply.started": "2024-05-21T08:28:17.279847Z",
          "shell.execute_reply": "2024-05-21T08:28:23.925134Z"
        },
        "trusted": true,
        "colab": {
          "referenced_widgets": [
            "1ece78d1a20a4eac8d1a77cc5d88a3e6"
          ]
        },
        "outputId": "502a9460-cf8e-4be0-e8f5-5c9ce8405706"
      },
      "execution_count": null,
      "outputs": [
        {
          "output_type": "display_data",
          "data": {
            "text/plain": "Batches:   0%|          | 0/184 [00:00<?, ?it/s]",
            "application/vnd.jupyter.widget-view+json": {
              "version_major": 2,
              "version_minor": 0,
              "model_id": "1ece78d1a20a4eac8d1a77cc5d88a3e6"
            }
          },
          "metadata": {}
        }
      ]
    },
    {
      "cell_type": "code",
      "source": [
        "documents_embeddings[0].reshape(1,-1)"
      ],
      "metadata": {
        "id": "xmd3I030JBDg",
        "outputId": "30e1d867-d6ef-412f-be87-83696cada0d8",
        "execution": {
          "iopub.status.busy": "2024-05-21T08:28:43.830876Z",
          "iopub.execute_input": "2024-05-21T08:28:43.831288Z",
          "iopub.status.idle": "2024-05-21T08:28:43.842826Z",
          "shell.execute_reply.started": "2024-05-21T08:28:43.831258Z",
          "shell.execute_reply": "2024-05-21T08:28:43.841823Z"
        },
        "trusted": true
      },
      "execution_count": null,
      "outputs": [
        {
          "execution_count": 11,
          "output_type": "execute_result",
          "data": {
            "text/plain": "array([[ 2.43610446e-03,  3.29437926e-02,  4.70606014e-02,\n        -7.68167479e-03,  1.48560539e-01, -7.82975107e-02,\n         2.99415477e-02,  1.36641292e-02,  1.53808743e-02,\n         1.40475079e-01,  2.35609505e-02, -8.67463648e-02,\n         2.46762913e-02,  8.08474980e-03, -1.67811643e-02,\n        -6.50802329e-02, -3.48654017e-02, -7.70691840e-04,\n        -5.02524003e-02,  7.39627331e-03, -2.48694886e-02,\n         6.15889803e-02, -2.88300738e-02,  8.74973182e-03,\n        -1.11718066e-01, -3.45828454e-03, -4.96662334e-02,\n        -5.51604889e-02, -3.83206941e-02, -6.52881041e-02,\n        -4.57847957e-03, -4.55709547e-02,  5.72044179e-02,\n         3.42551805e-02, -4.65118140e-03, -2.70470697e-02,\n         3.08932122e-02, -2.60512847e-02, -5.11268862e-02,\n         3.61177027e-02,  7.31430808e-03,  2.07178947e-02,\n         2.00569984e-02,  2.59086005e-02,  8.13343152e-02,\n         4.40371670e-02, -1.29732475e-01, -6.40622452e-02,\n         8.23869649e-03, -3.58666468e-04,  7.39453956e-02,\n        -4.48799320e-02, -4.20405269e-02,  1.27976477e-01,\n        -6.04274385e-02, -1.40302666e-02, -6.02459647e-02,\n         6.14528060e-02, -7.21564740e-02, -6.34479672e-02,\n         1.63977310e-01, -1.68563742e-02,  3.15048434e-02,\n         5.09586930e-02, -9.02756024e-03, -2.67425049e-02,\n         1.06029157e-02,  1.00399949e-01, -4.73300405e-02,\n        -9.24934670e-02, -1.21589489e-02, -1.82155687e-02,\n        -8.66573155e-02, -1.60982516e-02, -1.76461302e-02,\n        -2.65020113e-02,  3.43781412e-02,  1.46792214e-02,\n         6.63821474e-02,  3.73618305e-02,  2.17691734e-02,\n         1.00291349e-01,  2.66134441e-02,  4.78912480e-02,\n        -4.08197381e-03,  2.24307775e-02, -5.66577911e-02,\n         2.08289288e-02, -1.55685367e-02, -5.86488806e-02,\n         2.05983687e-02, -6.29677102e-02,  3.20426822e-02,\n        -2.79935207e-02,  7.77789429e-02,  1.39769083e-02,\n        -6.84900256e-03, -5.01475483e-02,  2.82515958e-02,\n        -8.46940465e-03, -3.58295366e-02, -8.47698674e-02,\n         3.42259072e-02,  1.22650294e-02,  4.06868607e-02,\n        -7.14107528e-02, -1.93590149e-02,  3.49872038e-02,\n         6.11166656e-02,  1.53532997e-02, -3.71368900e-02,\n        -5.19964471e-02, -2.31725574e-02,  5.65126203e-02,\n         3.91082987e-02, -2.85687968e-02,  4.14784774e-02,\n         2.13866476e-02,  9.11964327e-02, -5.40107675e-02,\n         1.05727213e-02, -7.73281371e-03,  3.45059787e-03,\n        -9.95285343e-04,  4.29395214e-02,  1.54650947e-02,\n         6.49399459e-02,  4.45449917e-31, -5.38449101e-02,\n        -9.58033353e-02,  5.47166802e-02,  9.78533179e-03,\n        -3.55320275e-02, -1.47581147e-02, -5.94028225e-03,\n        -9.81630199e-03,  3.49594578e-02,  1.97602771e-02,\n        -4.68775108e-02,  5.19975796e-02,  2.11553797e-02,\n         1.50061399e-01,  5.31986989e-02,  5.14656082e-02,\n        -5.60685731e-02,  8.53513032e-02,  1.02747835e-01,\n        -3.92962852e-03,  6.39218884e-03,  3.77836227e-02,\n         4.67668511e-02, -6.73896149e-02,  1.12430654e-01,\n         1.65198930e-02, -8.75122771e-02, -1.16442554e-01,\n        -1.79986618e-02, -1.95271466e-02,  1.34201124e-02,\n         1.12787727e-03, -4.33416478e-02,  2.60387715e-02,\n        -4.46670204e-02, -3.22980359e-02,  8.27495530e-02,\n        -5.10384962e-02, -4.72272077e-04, -7.95203894e-02,\n         4.43114154e-02, -2.02918034e-02,  1.25103027e-01,\n        -8.11163038e-02,  7.86774084e-02,  5.03847003e-02,\n         5.11074089e-04,  6.94201980e-03,  1.12292171e-02,\n         2.72419048e-03,  4.70597148e-02,  5.49497642e-02,\n         1.04190856e-01, -1.05369583e-01, -4.15502004e-02,\n         6.87612891e-02,  2.20433213e-02,  7.81628769e-03,\n        -1.47707164e-01,  3.31715192e-03, -3.46318877e-04,\n         2.51039024e-02,  7.19455183e-02, -7.00906385e-03,\n         7.87859261e-02, -3.37422118e-02, -1.14436150e-01,\n        -3.08879223e-02,  2.75238585e-02,  2.35665534e-02,\n        -7.28548244e-02, -4.61692698e-02,  1.37734483e-03,\n         1.02663087e-02,  3.65370810e-02,  6.66310452e-03,\n        -2.88746078e-02, -4.83899489e-02, -9.27790403e-02,\n         3.16815749e-02, -6.58158436e-02,  3.49000469e-02,\n        -3.23607810e-02,  2.10270956e-02,  3.43543217e-02,\n         5.57590500e-02, -1.42314434e-02,  7.57350549e-02,\n         3.27625945e-02, -1.01992674e-01,  2.27971077e-02,\n        -2.59552877e-02, -4.62757796e-02,  4.35848609e-02,\n        -3.97642702e-02, -4.05773340e-33,  3.81920189e-02,\n        -1.05362698e-01, -2.20380388e-02,  2.97885370e-02,\n        -2.45153648e-03,  4.33552042e-02, -2.27318555e-02,\n         1.45082790e-02,  4.20105569e-02,  9.36221518e-03,\n         3.20281722e-02,  7.70531669e-02, -1.69117711e-02,\n        -1.32985711e-02,  1.82859488e-02,  5.13907569e-03,\n        -1.07534692e-01, -4.93955314e-02,  2.01356653e-02,\n        -3.98332849e-02, -5.22080325e-02,  2.45556682e-02,\n         7.07008839e-02, -4.38241707e-03, -4.19728234e-02,\n        -1.56250596e-02, -5.04878089e-02, -3.34509276e-02,\n        -1.91044398e-02, -5.50474226e-02, -4.45643812e-02,\n        -6.57841051e-03, -1.46685522e-02, -2.06549112e-02,\n        -4.73629162e-02, -3.70257646e-02,  2.24751625e-02,\n        -4.19191234e-02, -1.06052116e-01, -2.57355142e-02,\n        -2.94116475e-02,  4.82965028e-03, -3.32664289e-02,\n        -4.55640331e-02, -9.03126411e-03,  1.24873128e-02,\n        -6.19083904e-02,  2.20663138e-02, -6.61915839e-02,\n        -2.87703308e-03, -6.37556762e-02, -8.15871544e-03,\n         3.97671200e-02,  1.68448910e-02,  2.30698623e-02,\n         5.74797392e-02,  2.51442175e-02,  6.63422123e-02,\n        -2.29850906e-04,  5.14069796e-02,  1.29240807e-02,\n        -6.29302580e-03, -4.45461608e-02, -4.30534258e-02,\n        -5.20174988e-02, -3.03082634e-03, -4.40474786e-02,\n        -3.17821279e-02, -2.17197519e-02, -5.90047240e-02,\n         9.44999680e-02, -1.50923617e-02, -1.87748875e-02,\n        -3.49902771e-02,  3.18811238e-02,  5.84906936e-02,\n         1.20628029e-01, -1.17227033e-01,  5.01899282e-03,\n        -1.96520910e-02, -7.43321776e-02, -9.70055535e-02,\n         1.19245406e-02,  2.71050017e-02,  1.22754715e-01,\n        -5.06423116e-02, -7.74042010e-02, -2.62956470e-02,\n         2.18954273e-02, -1.36604207e-02, -6.77243397e-02,\n         1.21797603e-02, -4.90854830e-02,  5.08677326e-02,\n         5.32611832e-03, -4.87410761e-33,  1.37023017e-01,\n         1.18652144e-02,  6.47499925e-03, -4.73829135e-02,\n        -4.86396514e-02, -6.59691682e-03, -1.95316199e-04,\n         4.55547981e-02,  4.78984509e-03,  8.90175030e-02,\n         3.97000462e-03, -1.38619747e-02,  5.46483435e-02,\n         1.25777675e-02,  7.07946941e-02,  3.90802436e-02,\n        -3.63910040e-05,  1.74267888e-02, -2.01984104e-02,\n        -7.25744152e-03, -3.48305749e-03, -2.04696245e-02,\n        -8.80882815e-02, -2.49504577e-02,  9.90878791e-02,\n        -1.03035299e-02, -3.48453932e-02, -1.69981681e-02,\n        -9.61551256e-03,  6.26932830e-02, -1.82569623e-02,\n        -1.64299656e-03, -3.57449688e-02,  6.22679852e-02,\n         1.59737580e-02,  7.59656057e-02,  5.99773861e-02,\n         2.50788173e-03,  5.10130674e-02,  1.01512892e-03,\n         5.31041846e-02, -5.96369710e-03,  2.25312561e-02,\n         5.04157366e-03,  3.35895605e-02,  2.94236317e-02,\n         9.71813574e-02,  4.15868945e-02,  2.80859191e-02,\n        -1.40969976e-04, -3.19713056e-02, -1.80652160e-02,\n        -4.20634933e-02, -4.81352657e-02, -5.47631197e-02,\n         1.97499152e-02, -2.00341474e-02, -5.81272915e-02,\n         4.57191989e-02,  4.71159369e-02,  7.63628585e-03,\n         2.14010086e-02, -1.72026958e-02, -5.03396336e-03]], dtype=float32)"
          },
          "metadata": {}
        }
      ]
    },
    {
      "cell_type": "code",
      "source": [
        "from sklearn.metrics.pairwise import cosine_similarity\n",
        "import numpy as np\n",
        "\n",
        "def relevant_docs(query, count):\n",
        "  query = query.lower()\n",
        "  query_embedding = bi_encoder.encode(query)\n",
        "  a = []\n",
        "  for d in documents_embeddings:\n",
        "    sim = cosine_similarity(d.reshape(1,-1), query_embedding.reshape(1,-1))\n",
        "    a.append(sim[0][0])\n",
        "  a = np.array(a)\n",
        "  cnt = 0\n",
        "  idx = []\n",
        "  while cnt<count:\n",
        "    max_idx = np.argmax(a)\n",
        "    idx.append(max_idx)\n",
        "    a = np.delete(a, max_idx)\n",
        "    cnt+=1\n",
        "\n",
        "  return idx"
      ],
      "metadata": {
        "id": "8I7TtHmRT4iW",
        "execution": {
          "iopub.status.busy": "2024-05-21T08:31:50.257593Z",
          "iopub.execute_input": "2024-05-21T08:31:50.258356Z",
          "iopub.status.idle": "2024-05-21T08:31:50.265122Z",
          "shell.execute_reply.started": "2024-05-21T08:31:50.258323Z",
          "shell.execute_reply": "2024-05-21T08:31:50.264179Z"
        },
        "trusted": true
      },
      "execution_count": null,
      "outputs": []
    },
    {
      "cell_type": "code",
      "source": [
        "query1 = 'What is the financial capital of India?'\n",
        "idx1 = relevant_docs(query1, 100)"
      ],
      "metadata": {
        "id": "3nOZSaEgJHXL",
        "execution": {
          "iopub.status.busy": "2024-05-21T08:31:56.136957Z",
          "iopub.execute_input": "2024-05-21T08:31:56.137787Z",
          "iopub.status.idle": "2024-05-21T08:31:57.762748Z",
          "shell.execute_reply.started": "2024-05-21T08:31:56.137754Z",
          "shell.execute_reply": "2024-05-21T08:31:57.761725Z"
        },
        "trusted": true,
        "colab": {
          "referenced_widgets": [
            "a63d961805c14512a1f08864e8cd10e0"
          ]
        },
        "outputId": "91b41fb0-8e7e-4c28-e399-49f400557491"
      },
      "execution_count": null,
      "outputs": [
        {
          "output_type": "display_data",
          "data": {
            "text/plain": "Batches:   0%|          | 0/1 [00:00<?, ?it/s]",
            "application/vnd.jupyter.widget-view+json": {
              "version_major": 2,
              "version_minor": 0,
              "model_id": "a63d961805c14512a1f08864e8cd10e0"
            }
          },
          "metadata": {}
        }
      ]
    },
    {
      "cell_type": "code",
      "source": [
        "new_documents[idx1[0]] #Most Relevant Document"
      ],
      "metadata": {
        "id": "N53ylKA2WYbT",
        "outputId": "4ca16924-5830-43bb-c1ba-30320a11800d",
        "execution": {
          "iopub.status.busy": "2024-05-21T08:31:59.111294Z",
          "iopub.execute_input": "2024-05-21T08:31:59.111669Z",
          "iopub.status.idle": "2024-05-21T08:31:59.117847Z",
          "shell.execute_reply.started": "2024-05-21T08:31:59.111631Z",
          "shell.execute_reply": "2024-05-21T08:31:59.116908Z"
        },
        "trusted": true
      },
      "execution_count": null,
      "outputs": [
        {
          "execution_count": 14,
          "output_type": "execute_result",
          "data": {
            "text/plain": "'The National Stock Exchange of India Limited (NSE), is a Mumbai-based stock exchange. It is the biggest stock exchange in India and the third biggest in the world in terms of amounts of transactions. NSE is mutually-owned by a set of leading financial institutions, banks, insurance companies and other financial intermediaries in India but its ownership and management operate as separate groups. As of 2006, the NSE VSAT terminals, 2799 in total, cover more than 1500 cities across India. In July 2007, the NSE had a total market capitalization of 42,74,509 crore INR making it the second-largest stock market in South Asia in terms of market-capitalization.'"
          },
          "metadata": {}
        }
      ]
    },
    {
      "cell_type": "markdown",
      "source": [
        "#Re-ranking with Cross-Encoders\n"
      ],
      "metadata": {
        "id": "zhvE5nFcVgOQ"
      }
    },
    {
      "cell_type": "code",
      "source": [
        "def sentence_pairs(query, documents, idx):\n",
        "    qd = []\n",
        "    topk_similar_docs = []\n",
        "    for i in idx:\n",
        "        qd.append([query, documents[i]])\n",
        "        topk_similar_docs.append(documents[i])\n",
        "    return qd, topk_similar_docs"
      ],
      "metadata": {
        "id": "PwIUYyuzVk-k",
        "execution": {
          "iopub.status.busy": "2024-05-21T08:32:47.469457Z",
          "iopub.execute_input": "2024-05-21T08:32:47.470051Z",
          "iopub.status.idle": "2024-05-21T08:32:47.475282Z",
          "shell.execute_reply.started": "2024-05-21T08:32:47.470020Z",
          "shell.execute_reply": "2024-05-21T08:32:47.474237Z"
        },
        "trusted": true
      },
      "execution_count": null,
      "outputs": []
    },
    {
      "cell_type": "code",
      "source": [
        "query_doc_pairs, topk_similar_docs = sentence_pairs(query1, new_documents, idx1)"
      ],
      "metadata": {
        "execution": {
          "iopub.status.busy": "2024-05-21T08:32:48.282783Z",
          "iopub.execute_input": "2024-05-21T08:32:48.283134Z",
          "iopub.status.idle": "2024-05-21T08:32:48.287605Z",
          "shell.execute_reply.started": "2024-05-21T08:32:48.283088Z",
          "shell.execute_reply": "2024-05-21T08:32:48.286709Z"
        },
        "trusted": true,
        "id": "sgzVQDEfUEov"
      },
      "execution_count": null,
      "outputs": []
    },
    {
      "cell_type": "code",
      "source": [
        "similarity_scores = cross_encoder.predict(query_doc_pairs, show_progress_bar = True, convert_to_numpy = True)"
      ],
      "metadata": {
        "execution": {
          "iopub.status.busy": "2024-05-21T08:33:22.170775Z",
          "iopub.execute_input": "2024-05-21T08:33:22.171148Z",
          "iopub.status.idle": "2024-05-21T08:33:22.505236Z",
          "shell.execute_reply.started": "2024-05-21T08:33:22.171116Z",
          "shell.execute_reply": "2024-05-21T08:33:22.504375Z"
        },
        "trusted": true,
        "colab": {
          "referenced_widgets": [
            "0d022288c4684238ae55421822c2f926"
          ]
        },
        "id": "wUkOYa1kUEow",
        "outputId": "1797fd51-605f-48a9-83ea-9ec68c714d22"
      },
      "execution_count": null,
      "outputs": [
        {
          "output_type": "display_data",
          "data": {
            "text/plain": "Batches:   0%|          | 0/4 [00:00<?, ?it/s]",
            "application/vnd.jupyter.widget-view+json": {
              "version_major": 2,
              "version_minor": 0,
              "model_id": "0d022288c4684238ae55421822c2f926"
            }
          },
          "metadata": {}
        }
      ]
    },
    {
      "cell_type": "code",
      "source": [
        "print(similarity_scores)"
      ],
      "metadata": {
        "execution": {
          "iopub.status.busy": "2024-05-21T08:33:31.142377Z",
          "iopub.execute_input": "2024-05-21T08:33:31.142747Z",
          "iopub.status.idle": "2024-05-21T08:33:31.149554Z",
          "shell.execute_reply.started": "2024-05-21T08:33:31.142710Z",
          "shell.execute_reply": "2024-05-21T08:33:31.148513Z"
        },
        "trusted": true,
        "id": "SHIBLtZBUEow",
        "outputId": "8b9cbd7c-1e0d-4086-95e8-acc8e2476f36"
      },
      "execution_count": null,
      "outputs": [
        {
          "name": "stdout",
          "text": "[  0.24508783  -8.946733     3.5322978  -10.752103   -11.071547\n  -9.461139   -11.213962    -1.2995698  -11.128358   -11.04509\n  -8.20163    -10.412138   -10.692642   -11.175376    -5.297061\n  -3.2702558   -6.889288    -9.257908   -11.154494   -10.16055\n -10.817291    -6.994435   -11.050814   -10.215964     3.5322978\n  -4.1622624  -11.078227   -10.983159   -11.0834675  -11.092703\n -10.960367   -11.136716    -9.939579   -10.597785   -10.64696\n -10.606368   -11.06457    -10.930551   -10.851954   -10.768676\n -11.080635   -10.936771    -9.623537   -10.680507   -10.987901\n -10.351691   -11.091391   -11.055042    -6.7052774  -11.089347\n -10.324846   -10.07918    -11.111828   -11.07732    -11.1257305\n -10.31979    -10.948334   -10.962687   -10.969747   -11.041257\n -10.908257   -10.651577    -9.114443   -10.413861   -10.9909525\n  -6.50263    -10.940133   -10.970784   -10.879505   -11.095625\n -11.087531   -11.019806   -10.229019   -10.977057   -11.036898\n  -9.13717    -10.525365    -8.571441    -9.972312    -7.7257414\n  -9.018379   -10.46443    -11.074506   -11.000986   -10.187541\n -10.06148    -11.185882   -10.708561   -10.339724   -10.351691\n  -9.999727    -9.999727   -10.793131    -8.762203   -11.117876\n -11.061061   -11.111587   -10.737564   -10.909554   -10.912823  ]\n",
          "output_type": "stream"
        }
      ]
    },
    {
      "cell_type": "code",
      "source": [
        "best_idx = np.argmax(similarity_scores)\n",
        "best_idx"
      ],
      "metadata": {
        "execution": {
          "iopub.status.busy": "2024-05-21T08:34:05.185425Z",
          "iopub.execute_input": "2024-05-21T08:34:05.186287Z",
          "iopub.status.idle": "2024-05-21T08:34:05.192280Z",
          "shell.execute_reply.started": "2024-05-21T08:34:05.186251Z",
          "shell.execute_reply": "2024-05-21T08:34:05.191236Z"
        },
        "trusted": true,
        "id": "ayr6THbxUEow",
        "outputId": "4ce320f4-3458-4416-b4d4-a893efddbfcc"
      },
      "execution_count": null,
      "outputs": [
        {
          "execution_count": 19,
          "output_type": "execute_result",
          "data": {
            "text/plain": "2"
          },
          "metadata": {}
        }
      ]
    },
    {
      "cell_type": "code",
      "source": [
        "topk_similar_docs[best_idx] #Most Relevant Doc after Re-ranking"
      ],
      "metadata": {
        "execution": {
          "iopub.status.busy": "2024-05-21T08:36:11.046198Z",
          "iopub.execute_input": "2024-05-21T08:36:11.047167Z",
          "iopub.status.idle": "2024-05-21T08:36:11.053400Z",
          "shell.execute_reply.started": "2024-05-21T08:36:11.047096Z",
          "shell.execute_reply": "2024-05-21T08:36:11.052504Z"
        },
        "trusted": true,
        "id": "cQ6XrEIdUEow",
        "outputId": "db8dbb95-c3bf-4f33-fae4-9782fa2c5bda"
      },
      "execution_count": null,
      "outputs": [
        {
          "execution_count": 20,
          "output_type": "execute_result",
          "data": {
            "text/plain": "\"Mumbai (previously known as Bombay until 1996) is a natural harbor on the west coast of India, and is the capital city of Maharashtra state. It is India's largest city, and one of the world's most populous cities. It is the financial capital of India. The city is the second most-populous in the world. It has approximately 13 million people. Along with the neighboring cities of Navi Mumbai and Thane, it forms the world's 4th largest urban agglomeration. They have around 19.1 million people.\""
          },
          "metadata": {}
        }
      ]
    }
  ]
}